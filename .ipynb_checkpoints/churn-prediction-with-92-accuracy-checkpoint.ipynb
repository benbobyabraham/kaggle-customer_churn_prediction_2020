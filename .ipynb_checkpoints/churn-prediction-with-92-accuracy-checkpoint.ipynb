{
 "cells": [
  {
   "cell_type": "markdown",
   "metadata": {},
   "source": [
    "# 1. Setting up the environment."
   ]
  },
  {
   "cell_type": "code",
   "execution_count": 1,
   "metadata": {
    "execution": {
     "iopub.execute_input": "2021-09-05T08:28:18.100455Z",
     "iopub.status.busy": "2021-09-05T08:28:18.099990Z",
     "iopub.status.idle": "2021-09-05T08:28:19.167817Z",
     "shell.execute_reply": "2021-09-05T08:28:19.166590Z",
     "shell.execute_reply.started": "2021-09-05T08:28:18.100361Z"
    }
   },
   "outputs": [
    {
     "name": "stdout",
     "output_type": "stream",
     "text": [
      "Priyatama is ready!\n"
     ]
    }
   ],
   "source": [
    "import pandas as pd\n",
    "import numpy as np\n",
    "import matplotlib.pyplot as plt\n",
    "import seaborn as sns\n",
    "print(\"Priyatama is ready!\")"
   ]
  },
  {
   "cell_type": "markdown",
   "metadata": {},
   "source": [
    "# 2. Reading the dataset."
   ]
  },
  {
   "cell_type": "code",
   "execution_count": 2,
   "metadata": {
    "execution": {
     "iopub.execute_input": "2021-09-05T08:28:19.169846Z",
     "iopub.status.busy": "2021-09-05T08:28:19.169482Z",
     "iopub.status.idle": "2021-09-05T08:28:19.210476Z",
     "shell.execute_reply": "2021-09-05T08:28:19.208955Z",
     "shell.execute_reply.started": "2021-09-05T08:28:19.169813Z"
    }
   },
   "outputs": [
    {
     "ename": "FileNotFoundError",
     "evalue": "[Errno 2] No such file or directory: '../input/customer-churn-prediction-2020/train.csv'",
     "output_type": "error",
     "traceback": [
      "\u001b[0;31m---------------------------------------------------------------------------\u001b[0m",
      "\u001b[0;31mFileNotFoundError\u001b[0m                         Traceback (most recent call last)",
      "\u001b[0;32m/var/folders/y_/nn87538d2sqd7jdp7rqkjnmw0000gn/T/ipykernel_35655/1434391851.py\u001b[0m in \u001b[0;36m<module>\u001b[0;34m\u001b[0m\n\u001b[0;32m----> 1\u001b[0;31m \u001b[0mdata\u001b[0m \u001b[0;34m=\u001b[0m \u001b[0mpd\u001b[0m\u001b[0;34m.\u001b[0m\u001b[0mread_csv\u001b[0m\u001b[0;34m(\u001b[0m\u001b[0;34m'../input/customer-churn-prediction-2020/train.csv'\u001b[0m\u001b[0;34m)\u001b[0m\u001b[0;34m\u001b[0m\u001b[0;34m\u001b[0m\u001b[0m\n\u001b[0m",
      "\u001b[0;32m/usr/local/lib/python3.9/site-packages/pandas/util/_decorators.py\u001b[0m in \u001b[0;36mwrapper\u001b[0;34m(*args, **kwargs)\u001b[0m\n\u001b[1;32m    309\u001b[0m                     \u001b[0mstacklevel\u001b[0m\u001b[0;34m=\u001b[0m\u001b[0mstacklevel\u001b[0m\u001b[0;34m,\u001b[0m\u001b[0;34m\u001b[0m\u001b[0;34m\u001b[0m\u001b[0m\n\u001b[1;32m    310\u001b[0m                 )\n\u001b[0;32m--> 311\u001b[0;31m             \u001b[0;32mreturn\u001b[0m \u001b[0mfunc\u001b[0m\u001b[0;34m(\u001b[0m\u001b[0;34m*\u001b[0m\u001b[0margs\u001b[0m\u001b[0;34m,\u001b[0m \u001b[0;34m**\u001b[0m\u001b[0mkwargs\u001b[0m\u001b[0;34m)\u001b[0m\u001b[0;34m\u001b[0m\u001b[0;34m\u001b[0m\u001b[0m\n\u001b[0m\u001b[1;32m    312\u001b[0m \u001b[0;34m\u001b[0m\u001b[0m\n\u001b[1;32m    313\u001b[0m         \u001b[0;32mreturn\u001b[0m \u001b[0mwrapper\u001b[0m\u001b[0;34m\u001b[0m\u001b[0;34m\u001b[0m\u001b[0m\n",
      "\u001b[0;32m/usr/local/lib/python3.9/site-packages/pandas/io/parsers/readers.py\u001b[0m in \u001b[0;36mread_csv\u001b[0;34m(filepath_or_buffer, sep, delimiter, header, names, index_col, usecols, squeeze, prefix, mangle_dupe_cols, dtype, engine, converters, true_values, false_values, skipinitialspace, skiprows, skipfooter, nrows, na_values, keep_default_na, na_filter, verbose, skip_blank_lines, parse_dates, infer_datetime_format, keep_date_col, date_parser, dayfirst, cache_dates, iterator, chunksize, compression, thousands, decimal, lineterminator, quotechar, quoting, doublequote, escapechar, comment, encoding, encoding_errors, dialect, error_bad_lines, warn_bad_lines, on_bad_lines, delim_whitespace, low_memory, memory_map, float_precision, storage_options)\u001b[0m\n\u001b[1;32m    584\u001b[0m     \u001b[0mkwds\u001b[0m\u001b[0;34m.\u001b[0m\u001b[0mupdate\u001b[0m\u001b[0;34m(\u001b[0m\u001b[0mkwds_defaults\u001b[0m\u001b[0;34m)\u001b[0m\u001b[0;34m\u001b[0m\u001b[0;34m\u001b[0m\u001b[0m\n\u001b[1;32m    585\u001b[0m \u001b[0;34m\u001b[0m\u001b[0m\n\u001b[0;32m--> 586\u001b[0;31m     \u001b[0;32mreturn\u001b[0m \u001b[0m_read\u001b[0m\u001b[0;34m(\u001b[0m\u001b[0mfilepath_or_buffer\u001b[0m\u001b[0;34m,\u001b[0m \u001b[0mkwds\u001b[0m\u001b[0;34m)\u001b[0m\u001b[0;34m\u001b[0m\u001b[0;34m\u001b[0m\u001b[0m\n\u001b[0m\u001b[1;32m    587\u001b[0m \u001b[0;34m\u001b[0m\u001b[0m\n\u001b[1;32m    588\u001b[0m \u001b[0;34m\u001b[0m\u001b[0m\n",
      "\u001b[0;32m/usr/local/lib/python3.9/site-packages/pandas/io/parsers/readers.py\u001b[0m in \u001b[0;36m_read\u001b[0;34m(filepath_or_buffer, kwds)\u001b[0m\n\u001b[1;32m    480\u001b[0m \u001b[0;34m\u001b[0m\u001b[0m\n\u001b[1;32m    481\u001b[0m     \u001b[0;31m# Create the parser.\u001b[0m\u001b[0;34m\u001b[0m\u001b[0;34m\u001b[0m\u001b[0m\n\u001b[0;32m--> 482\u001b[0;31m     \u001b[0mparser\u001b[0m \u001b[0;34m=\u001b[0m \u001b[0mTextFileReader\u001b[0m\u001b[0;34m(\u001b[0m\u001b[0mfilepath_or_buffer\u001b[0m\u001b[0;34m,\u001b[0m \u001b[0;34m**\u001b[0m\u001b[0mkwds\u001b[0m\u001b[0;34m)\u001b[0m\u001b[0;34m\u001b[0m\u001b[0;34m\u001b[0m\u001b[0m\n\u001b[0m\u001b[1;32m    483\u001b[0m \u001b[0;34m\u001b[0m\u001b[0m\n\u001b[1;32m    484\u001b[0m     \u001b[0;32mif\u001b[0m \u001b[0mchunksize\u001b[0m \u001b[0;32mor\u001b[0m \u001b[0miterator\u001b[0m\u001b[0;34m:\u001b[0m\u001b[0;34m\u001b[0m\u001b[0;34m\u001b[0m\u001b[0m\n",
      "\u001b[0;32m/usr/local/lib/python3.9/site-packages/pandas/io/parsers/readers.py\u001b[0m in \u001b[0;36m__init__\u001b[0;34m(self, f, engine, **kwds)\u001b[0m\n\u001b[1;32m    809\u001b[0m             \u001b[0mself\u001b[0m\u001b[0;34m.\u001b[0m\u001b[0moptions\u001b[0m\u001b[0;34m[\u001b[0m\u001b[0;34m\"has_index_names\"\u001b[0m\u001b[0;34m]\u001b[0m \u001b[0;34m=\u001b[0m \u001b[0mkwds\u001b[0m\u001b[0;34m[\u001b[0m\u001b[0;34m\"has_index_names\"\u001b[0m\u001b[0;34m]\u001b[0m\u001b[0;34m\u001b[0m\u001b[0;34m\u001b[0m\u001b[0m\n\u001b[1;32m    810\u001b[0m \u001b[0;34m\u001b[0m\u001b[0m\n\u001b[0;32m--> 811\u001b[0;31m         \u001b[0mself\u001b[0m\u001b[0;34m.\u001b[0m\u001b[0m_engine\u001b[0m \u001b[0;34m=\u001b[0m \u001b[0mself\u001b[0m\u001b[0;34m.\u001b[0m\u001b[0m_make_engine\u001b[0m\u001b[0;34m(\u001b[0m\u001b[0mself\u001b[0m\u001b[0;34m.\u001b[0m\u001b[0mengine\u001b[0m\u001b[0;34m)\u001b[0m\u001b[0;34m\u001b[0m\u001b[0;34m\u001b[0m\u001b[0m\n\u001b[0m\u001b[1;32m    812\u001b[0m \u001b[0;34m\u001b[0m\u001b[0m\n\u001b[1;32m    813\u001b[0m     \u001b[0;32mdef\u001b[0m \u001b[0mclose\u001b[0m\u001b[0;34m(\u001b[0m\u001b[0mself\u001b[0m\u001b[0;34m)\u001b[0m\u001b[0;34m:\u001b[0m\u001b[0;34m\u001b[0m\u001b[0;34m\u001b[0m\u001b[0m\n",
      "\u001b[0;32m/usr/local/lib/python3.9/site-packages/pandas/io/parsers/readers.py\u001b[0m in \u001b[0;36m_make_engine\u001b[0;34m(self, engine)\u001b[0m\n\u001b[1;32m   1038\u001b[0m             )\n\u001b[1;32m   1039\u001b[0m         \u001b[0;31m# error: Too many arguments for \"ParserBase\"\u001b[0m\u001b[0;34m\u001b[0m\u001b[0;34m\u001b[0m\u001b[0m\n\u001b[0;32m-> 1040\u001b[0;31m         \u001b[0;32mreturn\u001b[0m \u001b[0mmapping\u001b[0m\u001b[0;34m[\u001b[0m\u001b[0mengine\u001b[0m\u001b[0;34m]\u001b[0m\u001b[0;34m(\u001b[0m\u001b[0mself\u001b[0m\u001b[0;34m.\u001b[0m\u001b[0mf\u001b[0m\u001b[0;34m,\u001b[0m \u001b[0;34m**\u001b[0m\u001b[0mself\u001b[0m\u001b[0;34m.\u001b[0m\u001b[0moptions\u001b[0m\u001b[0;34m)\u001b[0m  \u001b[0;31m# type: ignore[call-arg]\u001b[0m\u001b[0;34m\u001b[0m\u001b[0;34m\u001b[0m\u001b[0m\n\u001b[0m\u001b[1;32m   1041\u001b[0m \u001b[0;34m\u001b[0m\u001b[0m\n\u001b[1;32m   1042\u001b[0m     \u001b[0;32mdef\u001b[0m \u001b[0m_failover_to_python\u001b[0m\u001b[0;34m(\u001b[0m\u001b[0mself\u001b[0m\u001b[0;34m)\u001b[0m\u001b[0;34m:\u001b[0m\u001b[0;34m\u001b[0m\u001b[0;34m\u001b[0m\u001b[0m\n",
      "\u001b[0;32m/usr/local/lib/python3.9/site-packages/pandas/io/parsers/c_parser_wrapper.py\u001b[0m in \u001b[0;36m__init__\u001b[0;34m(self, src, **kwds)\u001b[0m\n\u001b[1;32m     49\u001b[0m \u001b[0;34m\u001b[0m\u001b[0m\n\u001b[1;32m     50\u001b[0m         \u001b[0;31m# open handles\u001b[0m\u001b[0;34m\u001b[0m\u001b[0;34m\u001b[0m\u001b[0m\n\u001b[0;32m---> 51\u001b[0;31m         \u001b[0mself\u001b[0m\u001b[0;34m.\u001b[0m\u001b[0m_open_handles\u001b[0m\u001b[0;34m(\u001b[0m\u001b[0msrc\u001b[0m\u001b[0;34m,\u001b[0m \u001b[0mkwds\u001b[0m\u001b[0;34m)\u001b[0m\u001b[0;34m\u001b[0m\u001b[0;34m\u001b[0m\u001b[0m\n\u001b[0m\u001b[1;32m     52\u001b[0m         \u001b[0;32massert\u001b[0m \u001b[0mself\u001b[0m\u001b[0;34m.\u001b[0m\u001b[0mhandles\u001b[0m \u001b[0;32mis\u001b[0m \u001b[0;32mnot\u001b[0m \u001b[0;32mNone\u001b[0m\u001b[0;34m\u001b[0m\u001b[0;34m\u001b[0m\u001b[0m\n\u001b[1;32m     53\u001b[0m \u001b[0;34m\u001b[0m\u001b[0m\n",
      "\u001b[0;32m/usr/local/lib/python3.9/site-packages/pandas/io/parsers/base_parser.py\u001b[0m in \u001b[0;36m_open_handles\u001b[0;34m(self, src, kwds)\u001b[0m\n\u001b[1;32m    220\u001b[0m         \u001b[0mLet\u001b[0m \u001b[0mthe\u001b[0m \u001b[0mreaders\u001b[0m \u001b[0mopen\u001b[0m \u001b[0mIOHandles\u001b[0m \u001b[0mafter\u001b[0m \u001b[0mthey\u001b[0m \u001b[0mare\u001b[0m \u001b[0mdone\u001b[0m \u001b[0;32mwith\u001b[0m \u001b[0mtheir\u001b[0m \u001b[0mpotential\u001b[0m \u001b[0mraises\u001b[0m\u001b[0;34m.\u001b[0m\u001b[0;34m\u001b[0m\u001b[0;34m\u001b[0m\u001b[0m\n\u001b[1;32m    221\u001b[0m         \"\"\"\n\u001b[0;32m--> 222\u001b[0;31m         self.handles = get_handle(\n\u001b[0m\u001b[1;32m    223\u001b[0m             \u001b[0msrc\u001b[0m\u001b[0;34m,\u001b[0m\u001b[0;34m\u001b[0m\u001b[0;34m\u001b[0m\u001b[0m\n\u001b[1;32m    224\u001b[0m             \u001b[0;34m\"r\"\u001b[0m\u001b[0;34m,\u001b[0m\u001b[0;34m\u001b[0m\u001b[0;34m\u001b[0m\u001b[0m\n",
      "\u001b[0;32m/usr/local/lib/python3.9/site-packages/pandas/io/common.py\u001b[0m in \u001b[0;36mget_handle\u001b[0;34m(path_or_buf, mode, encoding, compression, memory_map, is_text, errors, storage_options)\u001b[0m\n\u001b[1;32m    700\u001b[0m         \u001b[0;32mif\u001b[0m \u001b[0mioargs\u001b[0m\u001b[0;34m.\u001b[0m\u001b[0mencoding\u001b[0m \u001b[0;32mand\u001b[0m \u001b[0;34m\"b\"\u001b[0m \u001b[0;32mnot\u001b[0m \u001b[0;32min\u001b[0m \u001b[0mioargs\u001b[0m\u001b[0;34m.\u001b[0m\u001b[0mmode\u001b[0m\u001b[0;34m:\u001b[0m\u001b[0;34m\u001b[0m\u001b[0;34m\u001b[0m\u001b[0m\n\u001b[1;32m    701\u001b[0m             \u001b[0;31m# Encoding\u001b[0m\u001b[0;34m\u001b[0m\u001b[0;34m\u001b[0m\u001b[0m\n\u001b[0;32m--> 702\u001b[0;31m             handle = open(\n\u001b[0m\u001b[1;32m    703\u001b[0m                 \u001b[0mhandle\u001b[0m\u001b[0;34m,\u001b[0m\u001b[0;34m\u001b[0m\u001b[0;34m\u001b[0m\u001b[0m\n\u001b[1;32m    704\u001b[0m                 \u001b[0mioargs\u001b[0m\u001b[0;34m.\u001b[0m\u001b[0mmode\u001b[0m\u001b[0;34m,\u001b[0m\u001b[0;34m\u001b[0m\u001b[0;34m\u001b[0m\u001b[0m\n",
      "\u001b[0;31mFileNotFoundError\u001b[0m: [Errno 2] No such file or directory: '../input/customer-churn-prediction-2020/train.csv'"
     ]
    }
   ],
   "source": [
    "data = pd.read_csv('../input/customer-churn-prediction-2020/train.csv')"
   ]
  },
  {
   "cell_type": "code",
   "execution_count": null,
   "metadata": {
    "execution": {
     "iopub.execute_input": "2021-09-05T08:28:19.213017Z",
     "iopub.status.busy": "2021-09-05T08:28:19.212683Z",
     "iopub.status.idle": "2021-09-05T08:28:19.257852Z",
     "shell.execute_reply": "2021-09-05T08:28:19.256582Z",
     "shell.execute_reply.started": "2021-09-05T08:28:19.212985Z"
    }
   },
   "outputs": [],
   "source": [
    "data.head()"
   ]
  },
  {
   "cell_type": "markdown",
   "metadata": {},
   "source": [
    "#3. Exploratory data analysis."
   ]
  },
  {
   "cell_type": "code",
   "execution_count": null,
   "metadata": {
    "execution": {
     "iopub.execute_input": "2021-09-05T08:28:19.261729Z",
     "iopub.status.busy": "2021-09-05T08:28:19.261409Z",
     "iopub.status.idle": "2021-09-05T08:28:19.271450Z",
     "shell.execute_reply": "2021-09-05T08:28:19.270187Z",
     "shell.execute_reply.started": "2021-09-05T08:28:19.261703Z"
    }
   },
   "outputs": [],
   "source": [
    "data.shape"
   ]
  },
  {
   "cell_type": "code",
   "execution_count": null,
   "metadata": {
    "execution": {
     "iopub.execute_input": "2021-09-05T08:28:19.273297Z",
     "iopub.status.busy": "2021-09-05T08:28:19.272981Z",
     "iopub.status.idle": "2021-09-05T08:28:20.017722Z",
     "shell.execute_reply": "2021-09-05T08:28:20.016312Z",
     "shell.execute_reply.started": "2021-09-05T08:28:19.273265Z"
    }
   },
   "outputs": [],
   "source": [
    "sns.heatmap(data.isnull())"
   ]
  },
  {
   "cell_type": "code",
   "execution_count": null,
   "metadata": {
    "execution": {
     "iopub.execute_input": "2021-09-05T08:28:20.020858Z",
     "iopub.status.busy": "2021-09-05T08:28:20.020438Z",
     "iopub.status.idle": "2021-09-05T08:28:20.032682Z",
     "shell.execute_reply": "2021-09-05T08:28:20.031495Z",
     "shell.execute_reply.started": "2021-09-05T08:28:20.020814Z"
    }
   },
   "outputs": [],
   "source": [
    "data.isnull().sum().any()"
   ]
  },
  {
   "cell_type": "code",
   "execution_count": null,
   "metadata": {
    "execution": {
     "iopub.execute_input": "2021-09-05T08:28:20.035637Z",
     "iopub.status.busy": "2021-09-05T08:28:20.034554Z",
     "iopub.status.idle": "2021-09-05T08:28:20.052274Z",
     "shell.execute_reply": "2021-09-05T08:28:20.050826Z",
     "shell.execute_reply.started": "2021-09-05T08:28:20.035585Z"
    }
   },
   "outputs": [],
   "source": [
    "data.dtypes"
   ]
  },
  {
   "cell_type": "code",
   "execution_count": null,
   "metadata": {
    "execution": {
     "iopub.execute_input": "2021-09-05T08:28:20.055431Z",
     "iopub.status.busy": "2021-09-05T08:28:20.055072Z",
     "iopub.status.idle": "2021-09-05T08:28:20.067803Z",
     "shell.execute_reply": "2021-09-05T08:28:20.066447Z",
     "shell.execute_reply.started": "2021-09-05T08:28:20.055397Z"
    }
   },
   "outputs": [],
   "source": [
    "data.state.unique()"
   ]
  },
  {
   "cell_type": "code",
   "execution_count": null,
   "metadata": {
    "execution": {
     "iopub.execute_input": "2021-09-05T08:28:20.071043Z",
     "iopub.status.busy": "2021-09-05T08:28:20.070499Z",
     "iopub.status.idle": "2021-09-05T08:28:20.848149Z",
     "shell.execute_reply": "2021-09-05T08:28:20.846920Z",
     "shell.execute_reply.started": "2021-09-05T08:28:20.070999Z"
    }
   },
   "outputs": [],
   "source": [
    "data.state.value_counts().plot(kind='bar')"
   ]
  },
  {
   "cell_type": "code",
   "execution_count": null,
   "metadata": {
    "execution": {
     "iopub.execute_input": "2021-09-05T08:28:20.850305Z",
     "iopub.status.busy": "2021-09-05T08:28:20.849883Z",
     "iopub.status.idle": "2021-09-05T08:28:20.860511Z",
     "shell.execute_reply": "2021-09-05T08:28:20.859172Z",
     "shell.execute_reply.started": "2021-09-05T08:28:20.850255Z"
    }
   },
   "outputs": [],
   "source": [
    "data.account_length.nunique()"
   ]
  },
  {
   "cell_type": "code",
   "execution_count": null,
   "metadata": {
    "execution": {
     "iopub.execute_input": "2021-09-05T08:28:20.862586Z",
     "iopub.status.busy": "2021-09-05T08:28:20.862254Z",
     "iopub.status.idle": "2021-09-05T08:28:20.873637Z",
     "shell.execute_reply": "2021-09-05T08:28:20.872247Z",
     "shell.execute_reply.started": "2021-09-05T08:28:20.862558Z"
    }
   },
   "outputs": [],
   "source": [
    "data.area_code.nunique()"
   ]
  },
  {
   "cell_type": "markdown",
   "metadata": {},
   "source": [
    "### Since there are only 3 categrical values in this column, turning them in to int could lead to variation in result, so we will use them as categorical values only."
   ]
  },
  {
   "cell_type": "code",
   "execution_count": null,
   "metadata": {
    "execution": {
     "iopub.execute_input": "2021-09-05T08:28:20.875385Z",
     "iopub.status.busy": "2021-09-05T08:28:20.875047Z",
     "iopub.status.idle": "2021-09-05T08:28:21.005657Z",
     "shell.execute_reply": "2021-09-05T08:28:21.004675Z",
     "shell.execute_reply.started": "2021-09-05T08:28:20.875324Z"
    }
   },
   "outputs": [],
   "source": [
    "data.international_plan.value_counts().plot(kind = 'pie')"
   ]
  },
  {
   "cell_type": "code",
   "execution_count": null,
   "metadata": {
    "execution": {
     "iopub.execute_input": "2021-09-05T08:28:21.007271Z",
     "iopub.status.busy": "2021-09-05T08:28:21.006969Z",
     "iopub.status.idle": "2021-09-05T08:28:21.105821Z",
     "shell.execute_reply": "2021-09-05T08:28:21.104584Z",
     "shell.execute_reply.started": "2021-09-05T08:28:21.007241Z"
    }
   },
   "outputs": [],
   "source": [
    "data.voice_mail_plan.value_counts().plot(kind = 'pie')"
   ]
  },
  {
   "cell_type": "code",
   "execution_count": null,
   "metadata": {
    "execution": {
     "iopub.execute_input": "2021-09-05T08:28:21.108313Z",
     "iopub.status.busy": "2021-09-05T08:28:21.107841Z",
     "iopub.status.idle": "2021-09-05T08:28:23.208317Z",
     "shell.execute_reply": "2021-09-05T08:28:23.206938Z",
     "shell.execute_reply.started": "2021-09-05T08:28:21.108263Z"
    }
   },
   "outputs": [],
   "source": [
    "sns.barplot(x=data.voice_mail_plan, y =data.number_vmail_messages, estimator=sum)"
   ]
  },
  {
   "cell_type": "markdown",
   "metadata": {},
   "source": [
    "### So, there ar no outliers with no voice mail plan having voicemail messages."
   ]
  },
  {
   "cell_type": "code",
   "execution_count": null,
   "metadata": {
    "execution": {
     "iopub.execute_input": "2021-09-05T08:28:23.210220Z",
     "iopub.status.busy": "2021-09-05T08:28:23.209897Z",
     "iopub.status.idle": "2021-09-05T08:28:23.410033Z",
     "shell.execute_reply": "2021-09-05T08:28:23.408878Z",
     "shell.execute_reply.started": "2021-09-05T08:28:23.210191Z"
    }
   },
   "outputs": [],
   "source": [
    "data.number_customer_service_calls.value_counts().plot(kind = 'barh')"
   ]
  },
  {
   "cell_type": "code",
   "execution_count": null,
   "metadata": {
    "execution": {
     "iopub.execute_input": "2021-09-05T08:28:23.411880Z",
     "iopub.status.busy": "2021-09-05T08:28:23.411566Z",
     "iopub.status.idle": "2021-09-05T08:28:23.425163Z",
     "shell.execute_reply": "2021-09-05T08:28:23.423931Z",
     "shell.execute_reply.started": "2021-09-05T08:28:23.411847Z"
    }
   },
   "outputs": [],
   "source": [
    "churn_y = data.loc[data.churn == 'yes', 'churn'].count()\n",
    "churn_n = data.loc[data.churn == 'no', 'churn'].count()\n",
    "churn_total =churn_n+churn_y\n",
    "print('The total customers are '+ str(churn_total))\n",
    "print('Total Churned customers are '+ str(churn_y) +' which is '+ str(round(100*churn_y/churn_total,0)) +'%' )\n",
    "print('Total non-Churned customers are '+ str(churn_n) +' which is '+ str(round(100*churn_n/churn_total,0)) +'%' )"
   ]
  },
  {
   "cell_type": "markdown",
   "metadata": {},
   "source": [
    "### Plot statewise customers."
   ]
  },
  {
   "cell_type": "code",
   "execution_count": null,
   "metadata": {
    "execution": {
     "iopub.execute_input": "2021-09-05T08:28:23.427169Z",
     "iopub.status.busy": "2021-09-05T08:28:23.426817Z",
     "iopub.status.idle": "2021-09-05T08:28:24.390173Z",
     "shell.execute_reply": "2021-09-05T08:28:24.389174Z",
     "shell.execute_reply.started": "2021-09-05T08:28:23.427132Z"
    }
   },
   "outputs": [],
   "source": [
    "fig, ax=plt.subplots(figsize=(20,5))\n",
    "sns.countplot(data = data, x='state', order=data['state'].value_counts().index, palette='viridis', hue='churn')\n",
    "plt.xticks(rotation=90)\n",
    "plt.xlabel('State', fontsize=10, fontweight='bold')\n",
    "plt.ylabel('Customers', fontsize=10, fontweight='bold')\n",
    "plt.title('State wise Customers', fontsize=12, fontweight='bold')\n",
    "plt.show()"
   ]
  },
  {
   "cell_type": "code",
   "execution_count": null,
   "metadata": {
    "execution": {
     "iopub.execute_input": "2021-09-05T08:28:24.391947Z",
     "iopub.status.busy": "2021-09-05T08:28:24.391624Z",
     "iopub.status.idle": "2021-09-05T08:28:24.584197Z",
     "shell.execute_reply": "2021-09-05T08:28:24.583048Z",
     "shell.execute_reply.started": "2021-09-05T08:28:24.391916Z"
    }
   },
   "outputs": [],
   "source": [
    "fig2, ax=plt.subplots(figsize=(15,5))\n",
    "sns.countplot(data = data, x='area_code', order=data['area_code'].value_counts().index, palette='viridis', hue='churn')\n",
    "plt.xlabel('Area Code', fontsize=10, fontweight='bold')\n",
    "plt.ylabel('Customers', fontsize=10, fontweight='bold')\n",
    "plt.title('Area Code wise Customers', fontsize=12, fontweight='bold')\n",
    "plt.show()"
   ]
  },
  {
   "cell_type": "code",
   "execution_count": null,
   "metadata": {
    "execution": {
     "iopub.execute_input": "2021-09-05T08:28:24.585967Z",
     "iopub.status.busy": "2021-09-05T08:28:24.585622Z",
     "iopub.status.idle": "2021-09-05T08:28:24.795782Z",
     "shell.execute_reply": "2021-09-05T08:28:24.794984Z",
     "shell.execute_reply.started": "2021-09-05T08:28:24.585938Z"
    }
   },
   "outputs": [],
   "source": [
    "fig3, ax=plt.subplots(figsize=(15,5))\n",
    "sns.scatterplot(data = data, x='total_day_calls',y='total_day_charge' , palette='viridis')\n",
    "plt.xlabel('Total Day Calls', fontsize=10, fontweight='bold')\n",
    "plt.ylabel('Total Day Charge', fontsize=10, fontweight='bold')\n",
    "plt.title('Day charge v/s Calls', fontsize=12, fontweight='bold')\n",
    "plt.show()"
   ]
  },
  {
   "cell_type": "code",
   "execution_count": null,
   "metadata": {
    "execution": {
     "iopub.execute_input": "2021-09-05T08:28:24.797399Z",
     "iopub.status.busy": "2021-09-05T08:28:24.796923Z",
     "iopub.status.idle": "2021-09-05T08:28:24.820048Z",
     "shell.execute_reply": "2021-09-05T08:28:24.818868Z",
     "shell.execute_reply.started": "2021-09-05T08:28:24.797327Z"
    }
   },
   "outputs": [],
   "source": [
    "data[data.total_day_calls==0]"
   ]
  },
  {
   "cell_type": "code",
   "execution_count": null,
   "metadata": {
    "execution": {
     "iopub.execute_input": "2021-09-05T08:28:24.821820Z",
     "iopub.status.busy": "2021-09-05T08:28:24.821522Z",
     "iopub.status.idle": "2021-09-05T08:28:24.845886Z",
     "shell.execute_reply": "2021-09-05T08:28:24.844746Z",
     "shell.execute_reply.started": "2021-09-05T08:28:24.821783Z"
    }
   },
   "outputs": [],
   "source": [
    "data2 = data.drop([1138,1183])\n",
    "data2[data2.total_day_calls==0]"
   ]
  },
  {
   "cell_type": "code",
   "execution_count": null,
   "metadata": {
    "execution": {
     "iopub.execute_input": "2021-09-05T08:28:24.847464Z",
     "iopub.status.busy": "2021-09-05T08:28:24.847142Z",
     "iopub.status.idle": "2021-09-05T08:28:24.909105Z",
     "shell.execute_reply": "2021-09-05T08:28:24.907810Z",
     "shell.execute_reply.started": "2021-09-05T08:28:24.847433Z"
    }
   },
   "outputs": [],
   "source": [
    "data2.describe()"
   ]
  },
  {
   "cell_type": "code",
   "execution_count": null,
   "metadata": {
    "execution": {
     "iopub.execute_input": "2021-09-05T08:28:24.913891Z",
     "iopub.status.busy": "2021-09-05T08:28:24.913567Z",
     "iopub.status.idle": "2021-09-05T08:28:24.944400Z",
     "shell.execute_reply": "2021-09-05T08:28:24.943176Z",
     "shell.execute_reply.started": "2021-09-05T08:28:24.913857Z"
    }
   },
   "outputs": [],
   "source": [
    "data3 = data2.groupby(['area_code','churn']).agg({'number_customer_service_calls': 'sum', 'state':'count'}).reset_index() \n",
    "data3['Average Calls'] = data3['number_customer_service_calls']/data3['state']\n",
    "data3.rename(columns={'state':'Count of Customers','number_customer_service_calls':'Number of Customer Service Calls'}, \n",
    "                inplace=True)\n",
    "data3"
   ]
  },
  {
   "cell_type": "code",
   "execution_count": null,
   "metadata": {
    "execution": {
     "iopub.execute_input": "2021-09-05T08:28:24.947041Z",
     "iopub.status.busy": "2021-09-05T08:28:24.946722Z",
     "iopub.status.idle": "2021-09-05T08:28:24.967504Z",
     "shell.execute_reply": "2021-09-05T08:28:24.966415Z",
     "shell.execute_reply.started": "2021-09-05T08:28:24.947010Z"
    }
   },
   "outputs": [],
   "source": [
    "data4 = data2.groupby(['voice_mail_plan','churn']).agg({'state': 'count'}).reset_index()\n",
    "data4"
   ]
  },
  {
   "cell_type": "markdown",
   "metadata": {},
   "source": [
    "# 4. Feature engineering."
   ]
  },
  {
   "cell_type": "code",
   "execution_count": null,
   "metadata": {
    "execution": {
     "iopub.execute_input": "2021-09-05T08:28:24.969531Z",
     "iopub.status.busy": "2021-09-05T08:28:24.969126Z",
     "iopub.status.idle": "2021-09-05T08:28:24.981935Z",
     "shell.execute_reply": "2021-09-05T08:28:24.980608Z",
     "shell.execute_reply.started": "2021-09-05T08:28:24.969492Z"
    }
   },
   "outputs": [],
   "source": [
    "#Create columns with rate of calls, so call charge columns could be dropped as they are corelated.\n",
    "data2['day_rate'] = data2['total_day_charge']/data2['total_day_minutes']\n",
    "data2['eve_rate'] = data2['total_eve_charge']/data2['total_eve_minutes']\n",
    "data2['night_rate'] = data2['total_night_charge']/data2['total_night_minutes']\n",
    "data2['intl_rate'] = data2['total_intl_charge']/data2['total_intl_minutes']"
   ]
  },
  {
   "cell_type": "code",
   "execution_count": null,
   "metadata": {
    "execution": {
     "iopub.execute_input": "2021-09-05T08:28:24.984645Z",
     "iopub.status.busy": "2021-09-05T08:28:24.984133Z",
     "iopub.status.idle": "2021-09-05T08:28:24.994164Z",
     "shell.execute_reply": "2021-09-05T08:28:24.993021Z",
     "shell.execute_reply.started": "2021-09-05T08:28:24.984595Z"
    }
   },
   "outputs": [],
   "source": [
    "data2.drop({'total_day_charge','total_eve_charge','total_night_charge','total_intl_charge'},axis=1,inplace= True)"
   ]
  },
  {
   "cell_type": "code",
   "execution_count": null,
   "metadata": {
    "execution": {
     "iopub.execute_input": "2021-09-05T08:28:24.996571Z",
     "iopub.status.busy": "2021-09-05T08:28:24.995810Z",
     "iopub.status.idle": "2021-09-05T08:28:25.010908Z",
     "shell.execute_reply": "2021-09-05T08:28:25.009928Z",
     "shell.execute_reply.started": "2021-09-05T08:28:24.996517Z"
    }
   },
   "outputs": [],
   "source": [
    "data2.dropna(inplace=True)"
   ]
  },
  {
   "cell_type": "code",
   "execution_count": null,
   "metadata": {
    "execution": {
     "iopub.execute_input": "2021-09-05T08:28:25.012868Z",
     "iopub.status.busy": "2021-09-05T08:28:25.012377Z",
     "iopub.status.idle": "2021-09-05T08:28:25.023844Z",
     "shell.execute_reply": "2021-09-05T08:28:25.022926Z",
     "shell.execute_reply.started": "2021-09-05T08:28:25.012821Z"
    }
   },
   "outputs": [],
   "source": [
    "X0=data2.drop('churn', axis=1)\n",
    "y= data2.churn"
   ]
  },
  {
   "cell_type": "code",
   "execution_count": null,
   "metadata": {
    "execution": {
     "iopub.execute_input": "2021-09-05T08:28:25.026059Z",
     "iopub.status.busy": "2021-09-05T08:28:25.025380Z",
     "iopub.status.idle": "2021-09-05T08:28:25.042228Z",
     "shell.execute_reply": "2021-09-05T08:28:25.040436Z",
     "shell.execute_reply.started": "2021-09-05T08:28:25.026009Z"
    }
   },
   "outputs": [],
   "source": [
    "X0.columns"
   ]
  },
  {
   "cell_type": "code",
   "execution_count": null,
   "metadata": {
    "execution": {
     "iopub.execute_input": "2021-09-05T08:28:25.044388Z",
     "iopub.status.busy": "2021-09-05T08:28:25.043966Z",
     "iopub.status.idle": "2021-09-05T08:28:25.054855Z",
     "shell.execute_reply": "2021-09-05T08:28:25.053595Z",
     "shell.execute_reply.started": "2021-09-05T08:28:25.044352Z"
    }
   },
   "outputs": [],
   "source": [
    "X0.drop({'voice_mail_plan'},axis=1,inplace= True)"
   ]
  },
  {
   "cell_type": "code",
   "execution_count": null,
   "metadata": {
    "execution": {
     "iopub.execute_input": "2021-09-05T08:28:25.058912Z",
     "iopub.status.busy": "2021-09-05T08:28:25.057755Z",
     "iopub.status.idle": "2021-09-05T08:28:25.073630Z",
     "shell.execute_reply": "2021-09-05T08:28:25.072788Z",
     "shell.execute_reply.started": "2021-09-05T08:28:25.058828Z"
    }
   },
   "outputs": [],
   "source": [
    "X0.isnull().sum().any()"
   ]
  },
  {
   "cell_type": "code",
   "execution_count": null,
   "metadata": {
    "execution": {
     "iopub.execute_input": "2021-09-05T08:28:25.075724Z",
     "iopub.status.busy": "2021-09-05T08:28:25.075179Z",
     "iopub.status.idle": "2021-09-05T08:28:25.087185Z",
     "shell.execute_reply": "2021-09-05T08:28:25.086212Z",
     "shell.execute_reply.started": "2021-09-05T08:28:25.075690Z"
    }
   },
   "outputs": [],
   "source": [
    "X0.isnull().sum().any()"
   ]
  },
  {
   "cell_type": "code",
   "execution_count": null,
   "metadata": {
    "execution": {
     "iopub.execute_input": "2021-09-05T08:28:25.089188Z",
     "iopub.status.busy": "2021-09-05T08:28:25.088538Z",
     "iopub.status.idle": "2021-09-05T08:28:26.667023Z",
     "shell.execute_reply": "2021-09-05T08:28:26.666016Z",
     "shell.execute_reply.started": "2021-09-05T08:28:25.089152Z"
    }
   },
   "outputs": [],
   "source": [
    "corr = X0.corr()\n",
    "fig4, ax = plt.subplots(figsize=(15,7))\n",
    "sns.heatmap(corr,\n",
    "            xticklabels=corr.columns.values,\n",
    "            yticklabels=corr.columns.values,\n",
    "            annot=True,cmap=\"YlGnBu\",annot_kws={'size': 12},fmt=\".2f\")\n",
    "\n",
    "'''Various String Foratter-\n",
    ".1e = scientific notation with 1 decimal point (standard form)\n",
    "\n",
    ".2f = 2 decimal places\n",
    "\n",
    ".3g = 3 significant figures\n",
    "\n",
    ".4% = percentage with 4 decimal places\n",
    "\n",
    "A more detailed explanation on the python string formatter can be found here: \n",
    "https://docs.python.org/3/library/string.html?highlight=string#formatspec '''"
   ]
  },
  {
   "cell_type": "code",
   "execution_count": null,
   "metadata": {
    "execution": {
     "iopub.execute_input": "2021-09-05T08:28:26.669430Z",
     "iopub.status.busy": "2021-09-05T08:28:26.668787Z",
     "iopub.status.idle": "2021-09-05T08:28:26.678536Z",
     "shell.execute_reply": "2021-09-05T08:28:26.677570Z",
     "shell.execute_reply.started": "2021-09-05T08:28:26.669384Z"
    }
   },
   "outputs": [],
   "source": [
    "X0.dtypes"
   ]
  },
  {
   "cell_type": "code",
   "execution_count": null,
   "metadata": {
    "execution": {
     "iopub.execute_input": "2021-09-05T08:28:26.680252Z",
     "iopub.status.busy": "2021-09-05T08:28:26.679936Z",
     "iopub.status.idle": "2021-09-05T08:28:26.705601Z",
     "shell.execute_reply": "2021-09-05T08:28:26.704493Z",
     "shell.execute_reply.started": "2021-09-05T08:28:26.680210Z"
    }
   },
   "outputs": [],
   "source": [
    "X1= pd.get_dummies(X0, drop_first = True)\n",
    "X1.shape"
   ]
  },
  {
   "cell_type": "markdown",
   "metadata": {},
   "source": [
    "# 5. Model Designing."
   ]
  },
  {
   "cell_type": "code",
   "execution_count": null,
   "metadata": {
    "execution": {
     "iopub.execute_input": "2021-09-05T08:28:26.707759Z",
     "iopub.status.busy": "2021-09-05T08:28:26.707288Z",
     "iopub.status.idle": "2021-09-05T08:28:26.909560Z",
     "shell.execute_reply": "2021-09-05T08:28:26.908396Z",
     "shell.execute_reply.started": "2021-09-05T08:28:26.707714Z"
    }
   },
   "outputs": [],
   "source": [
    "from sklearn.model_selection import train_test_split\n",
    "\n",
    "from sklearn.model_selection import cross_val_score"
   ]
  },
  {
   "cell_type": "code",
   "execution_count": null,
   "metadata": {
    "execution": {
     "iopub.execute_input": "2021-09-05T08:28:26.912747Z",
     "iopub.status.busy": "2021-09-05T08:28:26.912386Z",
     "iopub.status.idle": "2021-09-05T08:28:26.924279Z",
     "shell.execute_reply": "2021-09-05T08:28:26.923498Z",
     "shell.execute_reply.started": "2021-09-05T08:28:26.912708Z"
    }
   },
   "outputs": [],
   "source": [
    "X_train, X_valid, y_train, y_valid = train_test_split(X1, y, train_size=0.80,test_size=0.20,random_state=1)"
   ]
  },
  {
   "cell_type": "code",
   "execution_count": null,
   "metadata": {
    "execution": {
     "iopub.execute_input": "2021-09-05T08:28:26.925516Z",
     "iopub.status.busy": "2021-09-05T08:28:26.925203Z",
     "iopub.status.idle": "2021-09-05T08:28:26.938362Z",
     "shell.execute_reply": "2021-09-05T08:28:26.937070Z",
     "shell.execute_reply.started": "2021-09-05T08:28:26.925487Z"
    }
   },
   "outputs": [],
   "source": [
    "print(X_train.isnull().sum().any())\n",
    "print(X_valid.isnull().sum().any())\n",
    "print(y_train.isnull().sum().any())\n",
    "print(y_valid.isnull().sum().any())"
   ]
  },
  {
   "cell_type": "code",
   "execution_count": null,
   "metadata": {
    "execution": {
     "iopub.execute_input": "2021-09-05T08:28:26.940218Z",
     "iopub.status.busy": "2021-09-05T08:28:26.939793Z",
     "iopub.status.idle": "2021-09-05T08:28:26.945736Z",
     "shell.execute_reply": "2021-09-05T08:28:26.944554Z",
     "shell.execute_reply.started": "2021-09-05T08:28:26.940169Z"
    }
   },
   "outputs": [],
   "source": [
    "from sklearn.metrics import f1_score,confusion_matrix\n",
    "from sklearn.metrics import accuracy_score"
   ]
  },
  {
   "cell_type": "code",
   "execution_count": null,
   "metadata": {
    "execution": {
     "iopub.execute_input": "2021-09-05T08:28:26.948955Z",
     "iopub.status.busy": "2021-09-05T08:28:26.948097Z",
     "iopub.status.idle": "2021-09-05T08:28:26.980985Z",
     "shell.execute_reply": "2021-09-05T08:28:26.980185Z",
     "shell.execute_reply.started": "2021-09-05T08:28:26.948893Z"
    }
   },
   "outputs": [],
   "source": [
    "X_train.head(3)"
   ]
  },
  {
   "cell_type": "code",
   "execution_count": null,
   "metadata": {
    "execution": {
     "iopub.execute_input": "2021-09-05T08:28:26.982814Z",
     "iopub.status.busy": "2021-09-05T08:28:26.982284Z",
     "iopub.status.idle": "2021-09-05T08:28:27.830344Z",
     "shell.execute_reply": "2021-09-05T08:28:27.829190Z",
     "shell.execute_reply.started": "2021-09-05T08:28:26.982778Z"
    }
   },
   "outputs": [],
   "source": [
    "from sklearn.ensemble import RandomForestClassifier\n",
    "clf_rf = RandomForestClassifier(n_estimators=20 ,random_state=43)      \n",
    "clr_rf = clf_rf.fit(X_train,y_train)\n",
    "\n",
    "ac = accuracy_score(y_valid,clf_rf.predict(X_valid))\n",
    "print('Accuracy is: ',int(ac*100),\" %\")\n",
    "cm = confusion_matrix(y_valid,clf_rf.predict(X_valid))\n",
    "sns.heatmap(cm,annot=True,fmt=\"d\")"
   ]
  },
  {
   "cell_type": "code",
   "execution_count": null,
   "metadata": {
    "execution": {
     "iopub.execute_input": "2021-09-05T08:28:27.832837Z",
     "iopub.status.busy": "2021-09-05T08:28:27.832070Z",
     "iopub.status.idle": "2021-09-05T08:28:27.866677Z",
     "shell.execute_reply": "2021-09-05T08:28:27.865417Z",
     "shell.execute_reply.started": "2021-09-05T08:28:27.832787Z"
    }
   },
   "outputs": [],
   "source": [
    "from sklearn.feature_selection import SelectKBest\n",
    "from sklearn.feature_selection import chi2\n",
    "# find best scored 5 features\n",
    "select_feature = SelectKBest(chi2, k=5).fit(X_valid, y_valid)\n",
    "a = select_feature.scores_\n",
    "b = X_train.columns\n",
    "df = pd.DataFrame(list(zip(b, a)),\n",
    "               columns =['Column', 'Score'])\n",
    "df.dtypes"
   ]
  },
  {
   "cell_type": "code",
   "execution_count": null,
   "metadata": {
    "execution": {
     "iopub.execute_input": "2021-09-05T08:28:27.868829Z",
     "iopub.status.busy": "2021-09-05T08:28:27.868382Z",
     "iopub.status.idle": "2021-09-05T08:28:27.888911Z",
     "shell.execute_reply": "2021-09-05T08:28:27.887397Z",
     "shell.execute_reply.started": "2021-09-05T08:28:27.868781Z"
    }
   },
   "outputs": [],
   "source": [
    "df['Score'] = df['Score'].replace(np.nan, 0)\n",
    "df['Score'] = df['Score'].astype(int)\n",
    "df.sort_values(by='Score',ascending=False)"
   ]
  },
  {
   "cell_type": "code",
   "execution_count": null,
   "metadata": {
    "execution": {
     "iopub.execute_input": "2021-09-05T08:28:27.890868Z",
     "iopub.status.busy": "2021-09-05T08:28:27.890535Z",
     "iopub.status.idle": "2021-09-05T08:28:27.920298Z",
     "shell.execute_reply": "2021-09-05T08:28:27.919133Z",
     "shell.execute_reply.started": "2021-09-05T08:28:27.890837Z"
    }
   },
   "outputs": [],
   "source": [
    "y_pred=clf_rf.predict(X1)"
   ]
  },
  {
   "cell_type": "markdown",
   "metadata": {},
   "source": [
    "# 6. Generate Submission."
   ]
  },
  {
   "cell_type": "code",
   "execution_count": null,
   "metadata": {
    "execution": {
     "iopub.execute_input": "2021-09-05T08:28:27.922042Z",
     "iopub.status.busy": "2021-09-05T08:28:27.921734Z",
     "iopub.status.idle": "2021-09-05T08:28:27.970141Z",
     "shell.execute_reply": "2021-09-05T08:28:27.969097Z",
     "shell.execute_reply.started": "2021-09-05T08:28:27.922013Z"
    }
   },
   "outputs": [],
   "source": [
    "test0=pd.read_csv('../input/customer-churn-prediction-2020/test.csv')\n",
    "test0.head()"
   ]
  },
  {
   "cell_type": "code",
   "execution_count": null,
   "metadata": {
    "execution": {
     "iopub.execute_input": "2021-09-05T08:28:27.971628Z",
     "iopub.status.busy": "2021-09-05T08:28:27.971323Z",
     "iopub.status.idle": "2021-09-05T08:28:27.976642Z",
     "shell.execute_reply": "2021-09-05T08:28:27.975510Z",
     "shell.execute_reply.started": "2021-09-05T08:28:27.971600Z"
    }
   },
   "outputs": [],
   "source": [
    "test=test0.copy()"
   ]
  },
  {
   "cell_type": "code",
   "execution_count": null,
   "metadata": {
    "execution": {
     "iopub.execute_input": "2021-09-05T08:28:27.978821Z",
     "iopub.status.busy": "2021-09-05T08:28:27.978357Z",
     "iopub.status.idle": "2021-09-05T08:28:27.994867Z",
     "shell.execute_reply": "2021-09-05T08:28:27.993593Z",
     "shell.execute_reply.started": "2021-09-05T08:28:27.978776Z"
    }
   },
   "outputs": [],
   "source": [
    "test['day_rate'] = test['total_day_charge']/test['total_day_minutes']\n",
    "test['eve_rate'] = test['total_eve_charge']/test['total_eve_minutes']\n",
    "test['night_rate'] = test['total_night_charge']/test['total_night_minutes']\n",
    "test['intl_rate'] = test['total_intl_charge']/test['total_intl_minutes']"
   ]
  },
  {
   "cell_type": "code",
   "execution_count": null,
   "metadata": {
    "execution": {
     "iopub.execute_input": "2021-09-05T08:28:27.998729Z",
     "iopub.status.busy": "2021-09-05T08:28:27.998372Z",
     "iopub.status.idle": "2021-09-05T08:28:28.018469Z",
     "shell.execute_reply": "2021-09-05T08:28:28.017154Z",
     "shell.execute_reply.started": "2021-09-05T08:28:27.998699Z"
    }
   },
   "outputs": [],
   "source": [
    "test.drop({'id','total_day_charge','total_eve_charge','total_night_charge','total_intl_charge','voice_mail_plan'},axis=1,inplace= True)\n",
    "test1= pd.get_dummies(test, drop_first = True)"
   ]
  },
  {
   "cell_type": "code",
   "execution_count": null,
   "metadata": {
    "execution": {
     "iopub.execute_input": "2021-09-05T08:28:28.020701Z",
     "iopub.status.busy": "2021-09-05T08:28:28.020373Z",
     "iopub.status.idle": "2021-09-05T08:28:28.032950Z",
     "shell.execute_reply": "2021-09-05T08:28:28.031746Z",
     "shell.execute_reply.started": "2021-09-05T08:28:28.020664Z"
    }
   },
   "outputs": [],
   "source": [
    "a = (test1.isnull().sum())\n",
    "print(a[a>0])"
   ]
  },
  {
   "cell_type": "code",
   "execution_count": null,
   "metadata": {
    "execution": {
     "iopub.execute_input": "2021-09-05T08:28:28.034917Z",
     "iopub.status.busy": "2021-09-05T08:28:28.034596Z",
     "iopub.status.idle": "2021-09-05T08:28:28.042016Z",
     "shell.execute_reply": "2021-09-05T08:28:28.040723Z",
     "shell.execute_reply.started": "2021-09-05T08:28:28.034885Z"
    }
   },
   "outputs": [],
   "source": [
    "test1.fillna(0,inplace=True)"
   ]
  },
  {
   "cell_type": "code",
   "execution_count": null,
   "metadata": {
    "execution": {
     "iopub.execute_input": "2021-09-05T08:28:28.044146Z",
     "iopub.status.busy": "2021-09-05T08:28:28.043771Z",
     "iopub.status.idle": "2021-09-05T08:28:28.066494Z",
     "shell.execute_reply": "2021-09-05T08:28:28.064970Z",
     "shell.execute_reply.started": "2021-09-05T08:28:28.044112Z"
    }
   },
   "outputs": [],
   "source": [
    "results =clf_rf.predict(test1)"
   ]
  },
  {
   "cell_type": "code",
   "execution_count": null,
   "metadata": {
    "execution": {
     "iopub.execute_input": "2021-09-05T08:28:28.068508Z",
     "iopub.status.busy": "2021-09-05T08:28:28.068137Z",
     "iopub.status.idle": "2021-09-05T08:28:28.081759Z",
     "shell.execute_reply": "2021-09-05T08:28:28.080413Z",
     "shell.execute_reply.started": "2021-09-05T08:28:28.068473Z"
    }
   },
   "outputs": [],
   "source": [
    "submission = pd.DataFrame({\n",
    "        \"id\": test0[\"id\"],\n",
    "        \"churn\": results\n",
    "    })\n",
    "\n",
    "submission.to_csv('submission.csv', index=False)\n"
   ]
  },
  {
   "cell_type": "code",
   "execution_count": null,
   "metadata": {
    "execution": {
     "iopub.execute_input": "2021-09-05T08:28:28.083625Z",
     "iopub.status.busy": "2021-09-05T08:28:28.083292Z",
     "iopub.status.idle": "2021-09-05T08:28:28.091164Z",
     "shell.execute_reply": "2021-09-05T08:28:28.089583Z",
     "shell.execute_reply.started": "2021-09-05T08:28:28.083595Z"
    }
   },
   "outputs": [],
   "source": [
    "submission.shape"
   ]
  }
 ],
 "metadata": {
  "kernelspec": {
   "display_name": "Python 3 (ipykernel)",
   "language": "python",
   "name": "python3"
  },
  "language_info": {
   "codemirror_mode": {
    "name": "ipython",
    "version": 3
   },
   "file_extension": ".py",
   "mimetype": "text/x-python",
   "name": "python",
   "nbconvert_exporter": "python",
   "pygments_lexer": "ipython3",
   "version": "3.9.7"
  }
 },
 "nbformat": 4,
 "nbformat_minor": 4
}
